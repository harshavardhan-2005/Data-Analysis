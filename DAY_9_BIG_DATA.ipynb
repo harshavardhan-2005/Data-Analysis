{
  "nbformat": 4,
  "nbformat_minor": 0,
  "metadata": {
    "colab": {
      "provenance": []
    },
    "kernelspec": {
      "name": "python3",
      "display_name": "Python 3"
    },
    "language_info": {
      "name": "python"
    }
  },
  "cells": [
    {
      "cell_type": "markdown",
      "source": [
        "Pyspark"
      ],
      "metadata": {
        "id": "u5uj799ocl_B"
      }
    },
    {
      "cell_type": "code",
      "execution_count": 1,
      "metadata": {
        "colab": {
          "base_uri": "https://localhost:8080/"
        },
        "id": "1xk7jiqNcYXc",
        "outputId": "d70bfcaa-e92f-465b-eaab-d7a44c719e59"
      },
      "outputs": [
        {
          "output_type": "stream",
          "name": "stdout",
          "text": [
            "Collecting pyspark==3.0.3\n",
            "  Downloading pyspark-3.0.3.tar.gz (209.1 MB)\n",
            "\u001b[2K     \u001b[90m━━━━━━━━━━━━━━━━━━━━━━━━━━━━━━━━━━━━━━━━\u001b[0m \u001b[32m209.1/209.1 MB\u001b[0m \u001b[31m5.1 MB/s\u001b[0m eta \u001b[36m0:00:00\u001b[0m\n",
            "\u001b[?25h  Preparing metadata (setup.py) ... \u001b[?25l\u001b[?25hdone\n",
            "Collecting py4j==0.10.9 (from pyspark==3.0.3)\n",
            "  Downloading py4j-0.10.9-py2.py3-none-any.whl (198 kB)\n",
            "\u001b[2K     \u001b[90m━━━━━━━━━━━━━━━━━━━━━━━━━━━━━━━━━━━━━━━━\u001b[0m \u001b[32m198.6/198.6 kB\u001b[0m \u001b[31m21.2 MB/s\u001b[0m eta \u001b[36m0:00:00\u001b[0m\n",
            "\u001b[?25hBuilding wheels for collected packages: pyspark\n",
            "  Building wheel for pyspark (setup.py) ... \u001b[?25l\u001b[?25hdone\n",
            "  Created wheel for pyspark: filename=pyspark-3.0.3-py2.py3-none-any.whl size=209435951 sha256=fb5a36509c2419a9e8fdd322ee52404beb0c84f001d439cd470d43ff7ddedb53\n",
            "  Stored in directory: /root/.cache/pip/wheels/40/50/14/79047c3c171b701e591d287b78a201214d9c8e0b93fef64458\n",
            "Successfully built pyspark\n",
            "Installing collected packages: py4j, pyspark\n",
            "  Attempting uninstall: py4j\n",
            "    Found existing installation: py4j 0.10.9.7\n",
            "    Uninstalling py4j-0.10.9.7:\n",
            "      Successfully uninstalled py4j-0.10.9.7\n",
            "Successfully installed py4j-0.10.9 pyspark-3.0.3\n"
          ]
        }
      ],
      "source": [
        "#Install Apache Spark 3.0.3 with Hadoop 2.7\n",
        "!pip install pyspark==3.0.3"
      ]
    },
    {
      "cell_type": "code",
      "source": [
        "#Import SparkSession from PySpark from pyspark.sql import SparkSession from pyspark.sql.functions import avg\n",
        "from pyspark.sql import SparkSession\n",
        "from pyspark.sql.functions import avg\n",
        "# Create a SparkSession\n",
        "spark = SparkSession.builder \\\n",
        "  .appName(\"Distributed ComputingExample\") \\\n",
        "  .getOrCreate()"
      ],
      "metadata": {
        "id": "0Dg9-YxedV1L"
      },
      "execution_count": 2,
      "outputs": []
    },
    {
      "cell_type": "code",
      "source": [
        "#load data from csv file\n",
        "file_path=\"/content/diabetcsv.csv\"\n",
        "df = spark.read.csv(file_path, header=True, inferSchema=True)\n",
        "# Show the DataFrame\n",
        "df.show()"
      ],
      "metadata": {
        "colab": {
          "base_uri": "https://localhost:8080/"
        },
        "id": "2KIWKJj9eE2J",
        "outputId": "8f2bcbbe-bda5-4080-80a1-66fc00615302"
      },
      "execution_count": 4,
      "outputs": [
        {
          "output_type": "stream",
          "name": "stdout",
          "text": [
            "+----+----+----+----+----+----+-----+---+---------------+\n",
            "|preg|plas|pres|skin|insu|mass| pedi|age|          class|\n",
            "+----+----+----+----+----+----+-----+---+---------------+\n",
            "|   6| 148|  72|  35|   0|33.6|0.627| 50|tested_positive|\n",
            "|   1|  85|  66|  29|   0|26.6|0.351| 31|tested_negative|\n",
            "|   8| 183|  64|   0|   0|23.3|0.672| 32|tested_positive|\n",
            "|   1|  89|  66|  23|  94|28.1|0.167| 21|tested_negative|\n",
            "|   0| 137|  40|  35| 168|43.1|2.288| 33|tested_positive|\n",
            "|   5| 116|  74|   0|   0|25.6|0.201| 30|tested_negative|\n",
            "|   3|  78|  50|  32|  88|31.0|0.248| 26|tested_positive|\n",
            "|  10| 115|   0|   0|   0|35.3|0.134| 29|tested_negative|\n",
            "|   2| 197|  70|  45| 543|30.5|0.158| 53|tested_positive|\n",
            "|   8| 125|  96|   0|   0| 0.0|0.232| 54|tested_positive|\n",
            "|   4| 110|  92|   0|   0|37.6|0.191| 30|tested_negative|\n",
            "|  10| 168|  74|   0|   0|38.0|0.537| 34|tested_positive|\n",
            "|  10| 139|  80|   0|   0|27.1|1.441| 57|tested_negative|\n",
            "|   1| 189|  60|  23| 846|30.1|0.398| 59|tested_positive|\n",
            "|   5| 166|  72|  19| 175|25.8|0.587| 51|tested_positive|\n",
            "|   7| 100|   0|   0|   0|30.0|0.484| 32|tested_positive|\n",
            "|   0| 118|  84|  47| 230|45.8|0.551| 31|tested_positive|\n",
            "|   7| 107|  74|   0|   0|29.6|0.254| 31|tested_positive|\n",
            "|   1| 103|  30|  38|  83|43.3|0.183| 33|tested_negative|\n",
            "|   1| 115|  70|  30|  96|34.6|0.529| 32|tested_positive|\n",
            "+----+----+----+----+----+----+-----+---+---------------+\n",
            "only showing top 20 rows\n",
            "\n"
          ]
        }
      ]
    },
    {
      "cell_type": "code",
      "source": [
        "# Calculate mean mass per age group\n",
        "mean_mass_per_age_group = df.groupBy(\"age\").agg(avg(\"mass\").alias(\"Mean_Mass\"))\n",
        "# Show the mean mass per age group\n",
        "mean_mass_per_age_group.show()\n",
        "df.show()\n",
        "#Stop the SparkSession\n",
        "spark.stop()"
      ],
      "metadata": {
        "colab": {
          "base_uri": "https://localhost:8080/"
        },
        "id": "CL2iHR_AfjLj",
        "outputId": "e6387a90-6e58-45be-c3d0-3e7e021e5da9"
      },
      "execution_count": 6,
      "outputs": [
        {
          "output_type": "stream",
          "name": "stdout",
          "text": [
            "+---+------------------+\n",
            "|age|         Mean_Mass|\n",
            "+---+------------------+\n",
            "| 31| 34.01666666666666|\n",
            "| 65|31.600000000000005|\n",
            "| 53|30.500000000000007|\n",
            "| 34|31.164285714285715|\n",
            "| 81|              25.9|\n",
            "| 28|33.642857142857146|\n",
            "| 26|34.915151515151514|\n",
            "| 27|31.949999999999992|\n",
            "| 44|           34.1625|\n",
            "| 22| 29.50972222222222|\n",
            "| 47| 34.56666666666667|\n",
            "| 52|            33.475|\n",
            "| 40| 33.53846153846154|\n",
            "| 57|              29.7|\n",
            "| 54|30.799999999999997|\n",
            "| 48|29.979999999999997|\n",
            "| 64|              25.0|\n",
            "| 41|  35.2590909090909|\n",
            "| 43|36.892307692307696|\n",
            "| 37|32.078947368421055|\n",
            "+---+------------------+\n",
            "only showing top 20 rows\n",
            "\n",
            "+----+----+----+----+----+----+-----+---+---------------+\n",
            "|preg|plas|pres|skin|insu|mass| pedi|age|          class|\n",
            "+----+----+----+----+----+----+-----+---+---------------+\n",
            "|   6| 148|  72|  35|   0|33.6|0.627| 50|tested_positive|\n",
            "|   1|  85|  66|  29|   0|26.6|0.351| 31|tested_negative|\n",
            "|   8| 183|  64|   0|   0|23.3|0.672| 32|tested_positive|\n",
            "|   1|  89|  66|  23|  94|28.1|0.167| 21|tested_negative|\n",
            "|   0| 137|  40|  35| 168|43.1|2.288| 33|tested_positive|\n",
            "|   5| 116|  74|   0|   0|25.6|0.201| 30|tested_negative|\n",
            "|   3|  78|  50|  32|  88|31.0|0.248| 26|tested_positive|\n",
            "|  10| 115|   0|   0|   0|35.3|0.134| 29|tested_negative|\n",
            "|   2| 197|  70|  45| 543|30.5|0.158| 53|tested_positive|\n",
            "|   8| 125|  96|   0|   0| 0.0|0.232| 54|tested_positive|\n",
            "|   4| 110|  92|   0|   0|37.6|0.191| 30|tested_negative|\n",
            "|  10| 168|  74|   0|   0|38.0|0.537| 34|tested_positive|\n",
            "|  10| 139|  80|   0|   0|27.1|1.441| 57|tested_negative|\n",
            "|   1| 189|  60|  23| 846|30.1|0.398| 59|tested_positive|\n",
            "|   5| 166|  72|  19| 175|25.8|0.587| 51|tested_positive|\n",
            "|   7| 100|   0|   0|   0|30.0|0.484| 32|tested_positive|\n",
            "|   0| 118|  84|  47| 230|45.8|0.551| 31|tested_positive|\n",
            "|   7| 107|  74|   0|   0|29.6|0.254| 31|tested_positive|\n",
            "|   1| 103|  30|  38|  83|43.3|0.183| 33|tested_negative|\n",
            "|   1| 115|  70|  30|  96|34.6|0.529| 32|tested_positive|\n",
            "+----+----+----+----+----+----+-----+---+---------------+\n",
            "only showing top 20 rows\n",
            "\n"
          ]
        }
      ]
    }
  ]
}