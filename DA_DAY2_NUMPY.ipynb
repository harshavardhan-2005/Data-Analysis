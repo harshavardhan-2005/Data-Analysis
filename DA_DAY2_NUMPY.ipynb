{
  "nbformat": 4,
  "nbformat_minor": 0,
  "metadata": {
    "colab": {
      "provenance": []
    },
    "kernelspec": {
      "name": "python3",
      "display_name": "Python 3"
    },
    "language_info": {
      "name": "python"
    }
  },
  "cells": [
    {
      "cell_type": "code",
      "execution_count": null,
      "metadata": {
        "id": "U9boQl1JtvgG"
      },
      "outputs": [],
      "source": [
        "import numpy as np"
      ]
    },
    {
      "cell_type": "code",
      "source": [
        "a=np.arange(1,33,1).reshape(8,4)\n",
        "print(a)"
      ],
      "metadata": {
        "colab": {
          "base_uri": "https://localhost:8080/"
        },
        "id": "8FlG9gd9ucUs",
        "outputId": "78ee7193-0ad1-42b8-d6e1-7998df218cff"
      },
      "execution_count": null,
      "outputs": [
        {
          "output_type": "stream",
          "name": "stdout",
          "text": [
            "[[ 1  2  3  4]\n",
            " [ 5  6  7  8]\n",
            " [ 9 10 11 12]\n",
            " [13 14 15 16]\n",
            " [17 18 19 20]\n",
            " [21 22 23 24]\n",
            " [25 26 27 28]\n",
            " [29 30 31 32]]\n"
          ]
        }
      ]
    },
    {
      "cell_type": "code",
      "source": [],
      "metadata": {
        "id": "zDKICI76wrb8"
      },
      "execution_count": null,
      "outputs": []
    },
    {
      "cell_type": "code",
      "source": [
        "b=np.random.rand(1)\n",
        "print(b)\n"
      ],
      "metadata": {
        "colab": {
          "base_uri": "https://localhost:8080/"
        },
        "id": "ln90H53hu1lL",
        "outputId": "a4fba006-483b-4501-d5c8-ff7e8ca858a9"
      },
      "execution_count": null,
      "outputs": [
        {
          "output_type": "stream",
          "name": "stdout",
          "text": [
            "[0.39358406]\n"
          ]
        }
      ]
    },
    {
      "cell_type": "code",
      "source": [
        "b=np.random.rand(8,4)\n",
        "print(b)"
      ],
      "metadata": {
        "colab": {
          "base_uri": "https://localhost:8080/"
        },
        "id": "ixCPeQK9vLJH",
        "outputId": "49dcf1d6-1de7-4943-c027-6b9ca156acb6"
      },
      "execution_count": null,
      "outputs": [
        {
          "output_type": "stream",
          "name": "stdout",
          "text": [
            "[[0.8305323  0.60081449 0.68514064 0.59953453]\n",
            " [0.95242903 0.94515685 0.51108765 0.92447972]\n",
            " [0.12231845 0.61932372 0.28980625 0.86194287]\n",
            " [0.04089409 0.38760558 0.99580987 0.45918126]\n",
            " [0.12949883 0.50270171 0.94958207 0.77229215]\n",
            " [0.46557434 0.25015119 0.45012221 0.91297065]\n",
            " [0.60778152 0.82263913 0.39049281 0.26534774]\n",
            " [0.37368251 0.54925933 0.24834007 0.58781189]]\n"
          ]
        }
      ]
    },
    {
      "cell_type": "code",
      "source": [
        "a=np.floor(10*np.random.rand(8,4))\n",
        "print(a)"
      ],
      "metadata": {
        "colab": {
          "base_uri": "https://localhost:8080/"
        },
        "id": "JTqxqiq6ve_Q",
        "outputId": "1d25ab7c-bc38-40ae-8560-bd9e5af4f6ca"
      },
      "execution_count": null,
      "outputs": [
        {
          "output_type": "stream",
          "name": "stdout",
          "text": [
            "[[0. 3. 9. 3.]\n",
            " [3. 6. 2. 5.]\n",
            " [7. 3. 2. 6.]\n",
            " [2. 5. 0. 9.]\n",
            " [2. 3. 6. 8.]\n",
            " [9. 5. 1. 4.]\n",
            " [0. 2. 7. 2.]\n",
            " [9. 9. 5. 8.]]\n"
          ]
        }
      ]
    },
    {
      "cell_type": "code",
      "source": [
        "np.vsplit(a,4)\n"
      ],
      "metadata": {
        "colab": {
          "base_uri": "https://localhost:8080/"
        },
        "id": "iTRmbjGLws59",
        "outputId": "78253aeb-6a72-40a9-9202-35cc1698220c"
      },
      "execution_count": null,
      "outputs": [
        {
          "output_type": "execute_result",
          "data": {
            "text/plain": [
              "[array([[1, 2, 3, 4],\n",
              "        [5, 6, 7, 8]]),\n",
              " array([[ 9, 10, 11, 12],\n",
              "        [13, 14, 15, 16]]),\n",
              " array([[17, 18, 19, 20],\n",
              "        [21, 22, 23, 24]]),\n",
              " array([[25, 26, 27, 28],\n",
              "        [29, 30, 31, 32]])]"
            ]
          },
          "metadata": {},
          "execution_count": 8
        }
      ]
    },
    {
      "cell_type": "code",
      "source": [
        "#split after 3rd row and 5th column\n",
        "np.vsplit(a,(3,5))"
      ],
      "metadata": {
        "colab": {
          "base_uri": "https://localhost:8080/"
        },
        "id": "MleT08Q1yYsu",
        "outputId": "341ca6f8-7849-4b20-e254-85e6f08632d7"
      },
      "execution_count": null,
      "outputs": [
        {
          "output_type": "execute_result",
          "data": {
            "text/plain": [
              "[array([[ 1,  2,  3,  4],\n",
              "        [ 5,  6,  7,  8],\n",
              "        [ 9, 10, 11, 12]]),\n",
              " array([[13, 14, 15, 16],\n",
              "        [17, 18, 19, 20]]),\n",
              " array([[21, 22, 23, 24],\n",
              "        [25, 26, 27, 28],\n",
              "        [29, 30, 31, 32]])]"
            ]
          },
          "metadata": {},
          "execution_count": 10
        }
      ]
    },
    {
      "cell_type": "code",
      "source": [
        "b=np.arange(0,32,1).reshape(4,8)\n",
        "print(b)"
      ],
      "metadata": {
        "colab": {
          "base_uri": "https://localhost:8080/"
        },
        "id": "qvM85aeGzj6h",
        "outputId": "23c2b22d-432a-4009-92ba-530b778d9af7"
      },
      "execution_count": null,
      "outputs": [
        {
          "output_type": "stream",
          "name": "stdout",
          "text": [
            "[[ 0  1  2  3  4  5  6  7]\n",
            " [ 8  9 10 11 12 13 14 15]\n",
            " [16 17 18 19 20 21 22 23]\n",
            " [24 25 26 27 28 29 30 31]]\n"
          ]
        }
      ]
    },
    {
      "cell_type": "code",
      "source": [
        "np.hsplit(b,(4,6))"
      ],
      "metadata": {
        "colab": {
          "base_uri": "https://localhost:8080/"
        },
        "id": "VU6Avuu10ABf",
        "outputId": "f437d9e8-b7c2-4ef0-f7f4-79bcfd30150e"
      },
      "execution_count": null,
      "outputs": [
        {
          "output_type": "execute_result",
          "data": {
            "text/plain": [
              "[array([[ 0,  1,  2,  3],\n",
              "        [ 8,  9, 10, 11],\n",
              "        [16, 17, 18, 19],\n",
              "        [24, 25, 26, 27]]),\n",
              " array([[ 4,  5],\n",
              "        [12, 13],\n",
              "        [20, 21],\n",
              "        [28, 29]]),\n",
              " array([[ 6,  7],\n",
              "        [14, 15],\n",
              "        [22, 23],\n",
              "        [30, 31]])]"
            ]
          },
          "metadata": {},
          "execution_count": 14
        }
      ]
    },
    {
      "cell_type": "code",
      "source": [
        "np.hsplit(b,(4,7))"
      ],
      "metadata": {
        "colab": {
          "base_uri": "https://localhost:8080/"
        },
        "id": "VHL_ZtGP1fZC",
        "outputId": "bc278683-f73b-4fdb-b146-644d6f428fe2"
      },
      "execution_count": null,
      "outputs": [
        {
          "output_type": "execute_result",
          "data": {
            "text/plain": [
              "[array([[ 0,  1,  2,  3],\n",
              "        [ 8,  9, 10, 11],\n",
              "        [16, 17, 18, 19],\n",
              "        [24, 25, 26, 27]]),\n",
              " array([[ 4,  5,  6],\n",
              "        [12, 13, 14],\n",
              "        [20, 21, 22],\n",
              "        [28, 29, 30]]),\n",
              " array([[ 7],\n",
              "        [15],\n",
              "        [23],\n",
              "        [31]])]"
            ]
          },
          "metadata": {},
          "execution_count": 17
        }
      ]
    },
    {
      "cell_type": "markdown",
      "source": [
        "trigonometry"
      ],
      "metadata": {
        "id": "Ny0mNtZ23m9z"
      }
    },
    {
      "cell_type": "code",
      "source": [
        "S=[np.pi/4,np.pi/3,np.pi/2,np.pi]\n",
        "print(S)"
      ],
      "metadata": {
        "colab": {
          "base_uri": "https://localhost:8080/"
        },
        "id": "e6Jcjaik4Dxt",
        "outputId": "bab8504d-2917-4017-aea0-9fcaadf163a0"
      },
      "execution_count": null,
      "outputs": [
        {
          "output_type": "stream",
          "name": "stdout",
          "text": [
            "[0.7853981633974483, 1.0471975511965976, 1.5707963267948966, 3.141592653589793]\n"
          ]
        }
      ]
    },
    {
      "cell_type": "code",
      "source": [
        "q=np.rad2deg(S)"
      ],
      "metadata": {
        "id": "ovJm-NpI4alO"
      },
      "execution_count": null,
      "outputs": []
    },
    {
      "cell_type": "code",
      "source": [
        "\n",
        "f=np.rad2deg(a)\n",
        "print(f)"
      ],
      "metadata": {
        "colab": {
          "base_uri": "https://localhost:8080/"
        },
        "id": "iKdIzH9o5WXB",
        "outputId": "e16af20d-5610-4320-96ab-8360f91e794a"
      },
      "execution_count": null,
      "outputs": [
        {
          "output_type": "stream",
          "name": "stdout",
          "text": [
            "51.222235723088794\n"
          ]
        }
      ]
    },
    {
      "cell_type": "code",
      "source": [
        "a=np.sin(90)\n"
      ],
      "metadata": {
        "id": "ZxGVwY5Q6IBh",
        "outputId": "3392c86e-8134-4d9f-af82-e7ac6184be56",
        "colab": {
          "base_uri": "https://localhost:8080/",
          "height": 175
        }
      },
      "execution_count": null,
      "outputs": [
        {
          "output_type": "error",
          "ename": "NameError",
          "evalue": "name 'np' is not defined",
          "traceback": [
            "\u001b[0;31m---------------------------------------------------------------------------\u001b[0m",
            "\u001b[0;31mNameError\u001b[0m                                 Traceback (most recent call last)",
            "\u001b[0;32m<ipython-input-1-305d777a41d0>\u001b[0m in \u001b[0;36m<cell line: 1>\u001b[0;34m()\u001b[0m\n\u001b[0;32m----> 1\u001b[0;31m \u001b[0ma\u001b[0m\u001b[0;34m=\u001b[0m\u001b[0mnp\u001b[0m\u001b[0;34m.\u001b[0m\u001b[0msin\u001b[0m\u001b[0;34m(\u001b[0m\u001b[0;36m90\u001b[0m\u001b[0;34m)\u001b[0m\u001b[0;34m\u001b[0m\u001b[0;34m\u001b[0m\u001b[0m\n\u001b[0m",
            "\u001b[0;31mNameError\u001b[0m: name 'np' is not defined"
          ]
        }
      ]
    },
    {
      "cell_type": "code",
      "source": [
        "np.cos(0)"
      ],
      "metadata": {
        "colab": {
          "base_uri": "https://localhost:8080/"
        },
        "id": "v7N9Spr16ZCW",
        "outputId": "7b4aa427-3f15-4bd1-9929-41eb8ed7af7f"
      },
      "execution_count": null,
      "outputs": [
        {
          "output_type": "execute_result",
          "data": {
            "text/plain": [
              "1.0"
            ]
          },
          "metadata": {},
          "execution_count": 27
        }
      ]
    },
    {
      "cell_type": "code",
      "source": [
        "st=np.array([23,45,67,89,21,34])\n",
        "np.mean(st)"
      ],
      "metadata": {
        "colab": {
          "base_uri": "https://localhost:8080/"
        },
        "id": "dVmwLPrk7SUY",
        "outputId": "7727d16c-55de-4f51-cde0-4c87393559bd"
      },
      "execution_count": null,
      "outputs": [
        {
          "output_type": "execute_result",
          "data": {
            "text/plain": [
              "46.5"
            ]
          },
          "metadata": {},
          "execution_count": 38
        }
      ]
    },
    {
      "cell_type": "code",
      "source": [
        "np.median(st)"
      ],
      "metadata": {
        "colab": {
          "base_uri": "https://localhost:8080/"
        },
        "id": "Ydcft7P77r1A",
        "outputId": "e25e551a-743b-4a7f-a769-d68117f5ceac"
      },
      "execution_count": null,
      "outputs": [
        {
          "output_type": "execute_result",
          "data": {
            "text/plain": [
              "39.5"
            ]
          },
          "metadata": {},
          "execution_count": 39
        }
      ]
    },
    {
      "cell_type": "code",
      "source": [
        "#standard deviation\n",
        "#variance\n",
        "w=np.var(st)\n",
        "print(w)\n",
        "print(np.sqrt(w))"
      ],
      "metadata": {
        "colab": {
          "base_uri": "https://localhost:8080/"
        },
        "id": "YtYHB_kN7znv",
        "outputId": "7e8373ac-0521-4340-a61f-4eb9d35d6be5"
      },
      "execution_count": null,
      "outputs": [
        {
          "output_type": "stream",
          "name": "stdout",
          "text": [
            "597.9166666666666\n",
            "24.452334585202017\n"
          ]
        }
      ]
    },
    {
      "cell_type": "markdown",
      "source": [
        "Linear algebra"
      ],
      "metadata": {
        "id": "B4CCzAct_KPK"
      }
    },
    {
      "cell_type": "code",
      "source": [
        "C=np.arange(1,5).reshape(2,2)\n",
        "print(C)"
      ],
      "metadata": {
        "colab": {
          "base_uri": "https://localhost:8080/"
        },
        "id": "jvYLCAm9_QLq",
        "outputId": "66ae6f16-8803-454a-dcd5-ad85929127d0"
      },
      "execution_count": null,
      "outputs": [
        {
          "output_type": "stream",
          "name": "stdout",
          "text": [
            "[[1 2]\n",
            " [3 4]]\n"
          ]
        }
      ]
    },
    {
      "cell_type": "code",
      "source": [
        "np.linalg.inv(C)\n"
      ],
      "metadata": {
        "colab": {
          "base_uri": "https://localhost:8080/"
        },
        "id": "bFXOjyJxAEt1",
        "outputId": "1935776e-273f-4162-fb51-6dfbee2a5b70"
      },
      "execution_count": null,
      "outputs": [
        {
          "output_type": "execute_result",
          "data": {
            "text/plain": [
              "array([[-2. ,  1. ],\n",
              "       [ 1.5, -0.5]])"
            ]
          },
          "metadata": {},
          "execution_count": 47
        }
      ]
    },
    {
      "cell_type": "code",
      "source": [
        "c=np.arange(1,25).reshape(6,4)\n",
        "print(c)\n",
        "print(np.argmax(c,axis=0))\n",
        "print(np.argmin(c,axis=1))\n"
      ],
      "metadata": {
        "colab": {
          "base_uri": "https://localhost:8080/"
        },
        "id": "GZd2i3I-Bdot",
        "outputId": "298b6cbc-f928-493a-8daa-ff920b68d460"
      },
      "execution_count": null,
      "outputs": [
        {
          "output_type": "stream",
          "name": "stdout",
          "text": [
            "[[ 1  2  3  4]\n",
            " [ 5  6  7  8]\n",
            " [ 9 10 11 12]\n",
            " [13 14 15 16]\n",
            " [17 18 19 20]\n",
            " [21 22 23 24]]\n",
            "[5 5 5 5]\n",
            "[0 0 0 0 0 0]\n"
          ]
        }
      ]
    },
    {
      "cell_type": "code",
      "source": [
        "t=10*np.random.rand(24).reshape(6,4)\n",
        "print(t)\n",
        "print(np.argmax(t))\n",
        "print(np.argmin(t))"
      ],
      "metadata": {
        "colab": {
          "base_uri": "https://localhost:8080/"
        },
        "id": "GZOX-aLOCnO5",
        "outputId": "391b068f-aec2-4240-a01a-4c79f4a46093"
      },
      "execution_count": null,
      "outputs": [
        {
          "output_type": "stream",
          "name": "stdout",
          "text": [
            "[[9.92609341 1.34111855 2.06958872 5.90793951]\n",
            " [0.11644706 3.92942076 4.15883163 9.21808961]\n",
            " [8.57589349 6.61327201 3.08975851 2.2909201 ]\n",
            " [5.88496464 0.36113344 2.81666714 5.91616593]\n",
            " [8.96162118 9.20139781 0.89099257 4.31005539]\n",
            " [3.79498501 0.53273736 4.03734868 5.72019127]]\n",
            "0\n",
            "4\n"
          ]
        }
      ]
    },
    {
      "cell_type": "markdown",
      "source": [
        "searching"
      ],
      "metadata": {
        "id": "oaqJCjPcFiQl"
      }
    },
    {
      "cell_type": "code",
      "source": [
        "a=np.array([34,56,7,17,36,91])\n",
        "print(np.where(a%6 == 0))"
      ],
      "metadata": {
        "colab": {
          "base_uri": "https://localhost:8080/"
        },
        "id": "8675Ndb3FmCn",
        "outputId": "f88d1a00-eedd-4a88-fd61-afe7f9c70068"
      },
      "execution_count": null,
      "outputs": [
        {
          "output_type": "stream",
          "name": "stdout",
          "text": [
            "[34 56  7 17 36 91]\n",
            "(array([4]),)\n"
          ]
        }
      ]
    },
    {
      "cell_type": "code",
      "source": [
        "a=np.array([6,7,8,9,10])\n",
        "print(np.searchsorted(a,10))"
      ],
      "metadata": {
        "colab": {
          "base_uri": "https://localhost:8080/"
        },
        "id": "KDcd-z1IG1vz",
        "outputId": "f58079eb-2141-4224-b4b2-632b9d36c148"
      },
      "execution_count": null,
      "outputs": [
        {
          "output_type": "stream",
          "name": "stdout",
          "text": [
            "4\n"
          ]
        }
      ]
    },
    {
      "cell_type": "code",
      "source": [
        "a=np.array([\"anil\",\"harsha\",\"nava\",\"pavan\",\"kp\",\"shannu\"])\n",
        "print(np.sort(a))"
      ],
      "metadata": {
        "colab": {
          "base_uri": "https://localhost:8080/"
        },
        "id": "kUrngUZCIUsl",
        "outputId": "5b045960-3239-4108-b70b-551ec2c70e74"
      },
      "execution_count": null,
      "outputs": [
        {
          "output_type": "stream",
          "name": "stdout",
          "text": [
            "['anil' 'harsha' 'kp' 'nava' 'pavan' 'shannu']\n"
          ]
        }
      ]
    },
    {
      "cell_type": "code",
      "source": [
        "print(np.searchsorted(a,'harsha'))"
      ],
      "metadata": {
        "colab": {
          "base_uri": "https://localhost:8080/"
        },
        "id": "oTl8jyVyI1NO",
        "outputId": "89c77a93-b151-4a7a-99a3-59adfdde96b5"
      },
      "execution_count": null,
      "outputs": [
        {
          "output_type": "stream",
          "name": "stdout",
          "text": [
            "1\n"
          ]
        }
      ]
    },
    {
      "cell_type": "code",
      "source": [
        "h=np.array([[1,5,4],[8,2,0]])\n",
        "print(h)"
      ],
      "metadata": {
        "colab": {
          "base_uri": "https://localhost:8080/"
        },
        "id": "WO_PK9pgJ9lx",
        "outputId": "3b5f88c1-464f-4c24-97ac-b4ab2585b866"
      },
      "execution_count": null,
      "outputs": [
        {
          "output_type": "stream",
          "name": "stdout",
          "text": [
            "[[1 5 4]\n",
            " [8 2 0]]\n"
          ]
        }
      ]
    },
    {
      "cell_type": "code",
      "source": [
        "print(np.sort(h))"
      ],
      "metadata": {
        "colab": {
          "base_uri": "https://localhost:8080/"
        },
        "id": "-DO35_j_KOfI",
        "outputId": "9eda2d00-a795-46d0-97a2-b9733cb385b3"
      },
      "execution_count": null,
      "outputs": [
        {
          "output_type": "stream",
          "name": "stdout",
          "text": [
            "[[1 4 5]\n",
            " [0 2 8]]\n"
          ]
        }
      ]
    },
    {
      "cell_type": "code",
      "source": [
        " e=np.array([48,25,46,89,78,12])\n",
        " b=np.where(e%2==0)\n",
        " print(b)\n",
        " e[b]"
      ],
      "metadata": {
        "colab": {
          "base_uri": "https://localhost:8080/"
        },
        "id": "8My_mhyMKpcT",
        "outputId": "c2b938d2-de53-43e3-fe82-89285cb1f353"
      },
      "execution_count": null,
      "outputs": [
        {
          "output_type": "stream",
          "name": "stdout",
          "text": [
            "(array([0, 2, 4, 5]),)\n"
          ]
        },
        {
          "output_type": "execute_result",
          "data": {
            "text/plain": [
              "array([48, 46, 78, 12])"
            ]
          },
          "metadata": {},
          "execution_count": 79
        }
      ]
    },
    {
      "cell_type": "code",
      "source": [
        "a=np.array([\"jwalalitha\",\"harsha\",\"nitish\",\"anil\",\"jaya\"])\n",
        "inl=np.array(['k','p','w','q','u'])\n",
        "for i,j in zip(inl,a):\n",
        "  print(i,\"-\",j)"
      ],
      "metadata": {
        "colab": {
          "base_uri": "https://localhost:8080/"
        },
        "id": "SPr0LJ1kO0Ex",
        "outputId": "16e2ecd3-ff49-4935-ef5c-d2cdeace78f9"
      },
      "execution_count": null,
      "outputs": [
        {
          "output_type": "stream",
          "name": "stdout",
          "text": [
            "k - jwalalitha\n",
            "p - harsha\n",
            "w - nitish\n",
            "q - anil\n",
            "u - jaya\n"
          ]
        }
      ]
    },
    {
      "cell_type": "code",
      "source": [
        "s=np.array([2,3,4,5])\n",
        "h=np.array([1,6,9,2])\n",
        "n=np.multiply(s,h)\n",
        "m=np.divide(s,h)\n",
        "o=np.mod(s,h)\n",
        "p=np.divmod(s,h)\n",
        "print(n)\n",
        "print(m)\n",
        "print(o)\n",
        "print(p)"
      ],
      "metadata": {
        "colab": {
          "base_uri": "https://localhost:8080/"
        },
        "id": "OZs3e6xORT0U",
        "outputId": "5d740a1c-3cfa-4c21-bca4-19ec1258ee16"
      },
      "execution_count": null,
      "outputs": [
        {
          "output_type": "stream",
          "name": "stdout",
          "text": [
            "[ 2 18 36 10]\n",
            "[2.         0.5        0.44444444 2.5       ]\n",
            "[0 3 4 1]\n",
            "(array([2, 0, 0, 2]), array([0, 3, 4, 1]))\n"
          ]
        }
      ]
    },
    {
      "cell_type": "markdown",
      "source": [
        "logarithms"
      ],
      "metadata": {
        "id": "qWHZK-pwSr0Y"
      }
    },
    {
      "cell_type": "code",
      "source": [
        "a=np.array([1,2,3,4,5])\n",
        "print(np.log(a))\n",
        "print(np.log2(a))\n",
        "print(np.log10(a))"
      ],
      "metadata": {
        "colab": {
          "base_uri": "https://localhost:8080/"
        },
        "id": "Qv_N0tIhTIHQ",
        "outputId": "26d3c466-2de6-43a7-c061-a3c733211f4d"
      },
      "execution_count": null,
      "outputs": [
        {
          "output_type": "stream",
          "name": "stdout",
          "text": [
            "[0.         0.69314718 1.09861229 1.38629436 1.60943791]\n",
            "[0.         1.         1.5849625  2.         2.32192809]\n",
            "[0.         0.30103    0.47712125 0.60205999 0.69897   ]\n"
          ]
        }
      ]
    },
    {
      "cell_type": "markdown",
      "source": [
        "other mathematical functions"
      ],
      "metadata": {
        "id": "Aqr6GN4dUyZt"
      }
    },
    {
      "cell_type": "code",
      "source": [
        "q=np.array([5,6,7,16])\n",
        "x=np.cumprod(q)\n",
        "print(x)"
      ],
      "metadata": {
        "colab": {
          "base_uri": "https://localhost:8080/"
        },
        "id": "FzyX41PETX8G",
        "outputId": "d1dda02b-5805-4dc7-cdc3-f354b10554e9"
      },
      "execution_count": null,
      "outputs": [
        {
          "output_type": "stream",
          "name": "stdout",
          "text": [
            "[   5   30  210 3360]\n"
          ]
        }
      ]
    },
    {
      "cell_type": "code",
      "source": [
        "a=np.diff(q)\n",
        "print(a)"
      ],
      "metadata": {
        "colab": {
          "base_uri": "https://localhost:8080/"
        },
        "id": "IhxvK_oaVhhI",
        "outputId": "d09c3f1b-c0b4-48d0-9085-4de3d856db03"
      },
      "execution_count": null,
      "outputs": [
        {
          "output_type": "stream",
          "name": "stdout",
          "text": [
            "[1 1 9]\n"
          ]
        }
      ]
    },
    {
      "cell_type": "code",
      "source": [
        "a=np.cumsum(q)\n",
        "print(a)"
      ],
      "metadata": {
        "colab": {
          "base_uri": "https://localhost:8080/"
        },
        "id": "rtMT0GrTV-qw",
        "outputId": "e87cf2d7-3700-477b-c95f-1dd2ab0bebc7"
      },
      "execution_count": null,
      "outputs": [
        {
          "output_type": "stream",
          "name": "stdout",
          "text": [
            "[ 5 11 18 34]\n"
          ]
        }
      ]
    },
    {
      "cell_type": "code",
      "source": [
        "n=2\n",
        "m=6\n",
        "print(np.lcm(n,m))\n",
        "print(np.gcd(n,m))"
      ],
      "metadata": {
        "colab": {
          "base_uri": "https://localhost:8080/"
        },
        "id": "_TEp1j3iWOja",
        "outputId": "ebf56d00-cfc5-4142-bcd7-a73ba627661b"
      },
      "execution_count": null,
      "outputs": [
        {
          "output_type": "stream",
          "name": "stdout",
          "text": [
            "6\n",
            "2\n"
          ]
        }
      ]
    },
    {
      "cell_type": "code",
      "source": [
        "a=np.array([12,15,60])\n",
        "g=np.gcd.reduce(a)\n",
        "print(g)"
      ],
      "metadata": {
        "colab": {
          "base_uri": "https://localhost:8080/"
        },
        "id": "ERGmEhaHW88k",
        "outputId": "d96bf34b-c12f-42b6-8497-423de288cc44"
      },
      "execution_count": null,
      "outputs": [
        {
          "output_type": "stream",
          "name": "stdout",
          "text": [
            "3\n"
          ]
        }
      ]
    }
  ]
}